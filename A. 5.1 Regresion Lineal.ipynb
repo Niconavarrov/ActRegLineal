{
 "cells": [
  {
   "cell_type": "markdown",
   "metadata": {},
   "source": [
    "### Actividad: Predicción del Precio de Automóviles\n",
    "### Nombres:__Nico y Jos____\n",
    "\n",
    "#### Objetivo: \n",
    "El propósito de esta actividad es que los alumnos, trabajando en parejas, practiquen y se familiaricen con el proceso completo para modelar una regresión lineal simple, desde la carga de datos hasta la interpretación de resultados, con el fin de predecir el precio de automóviles en función de su año de fabricación. \n",
    "\n",
    "#### Intrucciones:\n",
    "\n",
    "1. Descarga del Dataset: Descarga el dataset [Car Price Prediction](https://www.kaggle.com/datasets/nehalbirla/vehicle-dataset-from-cardekho) de Kaggle. Las columnas de dataset son:\n",
    "-  `name`\n",
    "-  `year`\n",
    "-  `selling_price`\n",
    "-  `km_driven`\n",
    "-  `fuel`\n",
    "-  `seller_type`\n",
    "-  `transmission`\n",
    "-  `Owner`\n",
    "\n",
    "Carguen los datos en un DataFrame de Pandas y realicen:  \n",
    "    - Análisis de estructura (dimensiones, tipos de datos)  \n",
    "    - Detección y tratamiento de valores nulos/inconsistentes  \n",
    "    - Limpieza y transformación de datos cuando sea necesario  \n",
    "\n",
    "2. Selección y Análisis de Variables:  \n",
    "    - Evalúen la correlación entre variables utilizando Matrices de correlación  \n",
    "    - Justifiquen la selección de variables para el modelo\n",
    "\n",
    "3. Desarrollo del Modelo Predictivo:  \n",
    "    - Verifiquen el supuesto de linealidad entre variables a través de un gráfico\n",
    "    - Dividan el dataset (80% entrenamiento - 20% prueba) considerando una semilla para que los datos proporcionados sean los mismo cada vez que ejecuto el código.\n",
    "    - Entrenen el modelo de regresión lineal.\n",
    "    - Usen el modelo para hacer predicciones en los datos de prueba.\n",
    "\n",
    "4. Visualización y Interpretación:  \n",
    "    - Generen un gráfico de dispersión profesional que incluya:  \n",
    "        * Puntos de datos reales  \n",
    "        * Línea de regresión  \n",
    "        * Etiquetas claras y leyenda  \n",
    "\n",
    "  ##### Análisis del Modelo:\n",
    "\n",
    "    1. ¿Qué relación cuantitativa existe entre el año de fabricación y el precio según el coeficiente β₁?\n",
    "    2. ¿Identifican algún patrón no lineal que sugiera la necesidad de otro tipo de modelo?\n",
    "    3. ¿Qué tendencias se pueden obtener del modelo considerando las variables utilizadas?\n",
    "\n",
    "\n"
   ]
  },
  {
   "cell_type": "code",
   "execution_count": null,
   "metadata": {},
   "outputs": [
    {
     "name": "stdout",
     "output_type": "stream",
     "text": [
      "<class 'pandas.core.frame.DataFrame'>\n",
      "Index: 4340 entries, Maruti 800 AC to Renault KWID RXT\n",
      "Data columns (total 7 columns):\n",
      " #   Column         Non-Null Count  Dtype \n",
      "---  ------         --------------  ----- \n",
      " 0   year           4340 non-null   int64 \n",
      " 1   selling_price  4340 non-null   int64 \n",
      " 2   km_driven      4340 non-null   int64 \n",
      " 3   fuel           4340 non-null   object\n",
      " 4   seller_type    4340 non-null   object\n",
      " 5   transmission   4340 non-null   object\n",
      " 6   owner          4340 non-null   object\n",
      "dtypes: int64(3), object(4)\n",
      "memory usage: 271.2+ KB\n"
     ]
    },
    {
     "data": {
      "text/plain": [
       "year             0\n",
       "selling_price    0\n",
       "km_driven        0\n",
       "fuel             0\n",
       "seller_type      0\n",
       "transmission     0\n",
       "owner            0\n",
       "dtype: int64"
      ]
     },
     "metadata": {},
     "output_type": "display_data"
    }
   ],
   "source": [
    "#Importar bibliotecas \n",
    "import pandas as pd\n",
    "from sklearn.model_selection import train_test_split \n",
    "from sklearn.linear_model import LinearRegression\n",
    "from sklearn.metrics import mean_squared_error\n",
    "import matplotlib.pyplot as plt\n",
    "import seaborn as sns\n",
    "import numpy as np\n",
    "\n",
    "#Carguen los datos en un DataFrame de Pandas\n",
    "car_data = pd.read_csv('Data/CAR DETAILS FROM CAR DEKHO.csv', index_col='name')\n",
    "#display(car_data.head())\n",
    "\n",
    "#Análisis de estructura (dimensiones, tipos de datos)\n",
    "car_data.info()\n",
    "\n",
    "#Detección y tratamiento de valores nulos/inconsistentes  \n",
    "display(car_data.isnull().sum())\n",
    "\n",
    "#Limpieza y transformación de datos cuando sea necesario  \n",
    "    #No hay valores nulos"
   ]
  },
  {
   "cell_type": "code",
   "execution_count": null,
   "metadata": {},
   "outputs": [],
   "source": [
    "#2. Selección y Análisis de Variables:  \n",
    "#    - Evalúen la correlación entre variables utilizando Matrices de correlación  \n",
    "#   - Justifiquen la selección de variables para el modelo\n",
    "\n",
    "data_corr = car_data.corr().values()\n",
    "sns.heatmap(data_corr, annot=True)"
   ]
  }
 ],
 "metadata": {
  "kernelspec": {
   "display_name": "Python 3",
   "language": "python",
   "name": "python3"
  },
  "language_info": {
   "codemirror_mode": {
    "name": "ipython",
    "version": 3
   },
   "file_extension": ".py",
   "mimetype": "text/x-python",
   "name": "python",
   "nbconvert_exporter": "python",
   "pygments_lexer": "ipython3",
   "version": "3.10.8"
  }
 },
 "nbformat": 4,
 "nbformat_minor": 2
}
