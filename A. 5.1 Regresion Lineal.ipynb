{
 "cells": [
  {
   "cell_type": "markdown",
   "metadata": {},
   "source": [
    "### Actividad: Predicción del Precio de Automóviles\n",
    "### Nombres:___________________________\n",
    "\n",
    "#### Objetivo: \n",
    "El propósito de esta actividad es que los alumnos, trabajando en parejas, practiquen y se familiaricen con el proceso completo para modelar una regresión lineal simple, desde la carga de datos hasta la interpretación de resultados, con el fin de predecir el precio de automóviles en función de su año de fabricación. \n",
    "\n",
    "#### Intrucciones:\n",
    "\n",
    "1. Descarga del Dataset: Descarga el dataset [Car Price Prediction](https://www.kaggle.com/datasets/nehalbirla/vehicle-dataset-from-cardekho) de Kaggle. Las columnas de dataset son:\n",
    "-  `name`\n",
    "-  `year`\n",
    "-  `selling_price`\n",
    "-  `km_driven`\n",
    "-  `fuel`\n",
    "-  `seller_type`\n",
    "-  `transmission`\n",
    "-  `Owner`\n",
    "\n",
    "Carguen los datos en un DataFrame de Pandas y realicen:  \n",
    "    - Análisis de estructura (dimensiones, tipos de datos)  \n",
    "    - Detección y tratamiento de valores nulos/inconsistentes  \n",
    "    - Limpieza y transformación de datos cuando sea necesario  \n",
    "\n",
    "2. Selección y Análisis de Variables:  \n",
    "    - Evalúen la correlación entre variables utilizando Matrices de correlación  \n",
    "    - Justifiquen la selección de variables para el modelo\n",
    "\n",
    "3. Desarrollo del Modelo Predictivo:  \n",
    "    - Verifiquen el supuesto de linealidad entre variables a través de un gráfico\n",
    "    - Dividan el dataset (80% entrenamiento - 20% prueba) considerando una semilla para que los datos proporcionados sean los mismo cada vez que ejecuto el código.\n",
    "    - Entrenen el modelo de regresión lineal.\n",
    "    - Usen el modelo para hacer predicciones en los datos de prueba.\n",
    "\n",
    "4. Visualización y Interpretación:  \n",
    "    - Generen un gráfico de dispersión profesional que incluya:  \n",
    "        * Puntos de datos reales  \n",
    "        * Línea de regresión  \n",
    "        * Etiquetas claras y leyenda  \n",
    "\n",
    "  ##### Análisis del Modelo:\n",
    "\n",
    "    1. ¿Qué relación cuantitativa existe entre el año de fabricación y el precio según el coeficiente β₁?\n",
    "\n",
    "    2. ¿Identifican algún patrón no lineal que sugiera la necesidad de otro tipo de modelo?\n",
    "    3. ¿Qué tendencias se pueden obtener del modelo considerando las variables utilizadas?\n",
    "\n",
    "\n"
   ]
  }
 ],
 "metadata": {
  "kernelspec": {
   "display_name": "Python 3",
   "language": "python",
   "name": "python3"
  },
  "language_info": {
   "codemirror_mode": {
    "name": "ipython",
    "version": 3
   },
   "file_extension": ".py",
   "mimetype": "text/x-python",
   "name": "python",
   "nbconvert_exporter": "python",
   "pygments_lexer": "ipython3",
   "version": "3.12.9"
  }
 },
 "nbformat": 4,
 "nbformat_minor": 2
}
